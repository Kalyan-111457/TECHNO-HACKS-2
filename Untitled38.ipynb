{
 "cells": [
  {
   "cell_type": "code",
   "execution_count": 1,
   "id": "da46d4d3",
   "metadata": {},
   "outputs": [],
   "source": [
    "class bank:\n",
    "    def __init__(self,accountno,pin,balance=0):\n",
    "        self.accountno=accountno\n",
    "        self.pin=pin\n",
    "        self.balance=balance\n",
    "    def checkbalance(self):\n",
    "        return  f\"Account Balance: ${self.balance}\"\n",
    "    def deposit(self,amount):\n",
    "        if amount>0:\n",
    "            self.balance=self.balance+amount\n",
    "            return f\"Deposited ${amount}. New balance: ${self.balance}\"\n",
    "        else:\n",
    "            return \"inavald amount\"\n",
    "    def withdraw(self,amount):\n",
    "        if amount<self.balance:\n",
    "            self.balance=self.balance-amount\n",
    "            return f\"Withdrew ${amount}. New balance: ${self.balance}\"\n",
    "        else:\n",
    "            return \"inavlid transaction\"\n",
    "    \n",
    "    "
   ]
  },
  {
   "cell_type": "code",
   "execution_count": 2,
   "id": "db31620b",
   "metadata": {},
   "outputs": [
    {
     "name": "stdout",
     "output_type": "stream",
     "text": [
      "atm stimulator\n",
      "1.check balance\n",
      "2. deposit\n",
      "3.with draw\n",
      "4. exit\n",
      "enter your choice2\n",
      "enter the amount190203\n",
      "Deposited $190203.0. New balance: $190203.0\n",
      "atm stimulator\n",
      "1.check balance\n",
      "2. deposit\n",
      "3.with draw\n",
      "4. exit\n",
      "enter your choice3\n",
      "enter the amount190\n",
      "Withdrew $190.0. New balance: $190013.0\n",
      "atm stimulator\n",
      "1.check balance\n",
      "2. deposit\n",
      "3.with draw\n",
      "4. exit\n",
      "enter your choice4\n",
      "exit atm have a nice day\n"
     ]
    }
   ],
   "source": [
    "def main():\n",
    "    accountno=\"14263819\"\n",
    "    pin=\"1890\"\n",
    "    account=bank(accountno,pin)\n",
    "    while True:\n",
    "        print(\"atm stimulator\")\n",
    "        print(\"1.check balance\")\n",
    "        print(\"2. deposit\")\n",
    "        print(\"3.with-draw\")\n",
    "        print(\"4. exit\")\n",
    "        \n",
    "        choice=input(\"enter your choice\")\n",
    "        \n",
    "        if choice==\"1\":\n",
    "            print(account.checkbalance())\n",
    "        elif choice==\"2\":\n",
    "            amount=float(input(\"enter the amount\"))\n",
    "            print(account.deposit(amount))\n",
    "        elif choice==\"3\":\n",
    "            amount=float(input(\"enter the amount\"))\n",
    "            print(account.withdraw(amount))\n",
    "        elif choice==\"4\":\n",
    "            print(\"exit atm have a nice day\")\n",
    "            break\n",
    "        else:\n",
    "            print(\"invalid choice\")\n",
    "#if_ _name_ _==\"_ _main_ _\":\n",
    "main()"
   ]
  },
  {
   "cell_type": "code",
   "execution_count": null,
   "id": "2b9d2fe5",
   "metadata": {},
   "outputs": [],
   "source": []
  }
 ],
 "metadata": {
  "kernelspec": {
   "display_name": "Python 3 (ipykernel)",
   "language": "python",
   "name": "python3"
  },
  "language_info": {
   "codemirror_mode": {
    "name": "ipython",
    "version": 3
   },
   "file_extension": ".py",
   "mimetype": "text/x-python",
   "name": "python",
   "nbconvert_exporter": "python",
   "pygments_lexer": "ipython3",
   "version": "3.9.13"
  }
 },
 "nbformat": 4,
 "nbformat_minor": 5
}
